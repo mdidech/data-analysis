{
  "cells": [
    {
      "cell_type": "code",
      "execution_count": 8,
      "metadata": {
        "id": "sOCV1M-H1GKk"
      },
      "outputs": [],
      "source": [
        "import pandas as pd\n"
      ]
    },
    {
      "cell_type": "code",
      "execution_count": 9,
      "metadata": {
        "id": "s4S9s4on1UG4"
      },
      "outputs": [],
      "source": [
        "url = 'data/100000 Sales Records.xlsx'"
      ]
    },
    {
      "cell_type": "code",
      "execution_count": 11,
      "metadata": {
        "id": "9RICeaHT1cCl"
      },
      "outputs": [],
      "source": [
        "data = pd.read_excel('data/100000 Sales Records.xlsx')"
      ]
    },
    {
      "cell_type": "code",
      "execution_count": 12,
      "metadata": {
        "colab": {
          "base_uri": "https://localhost:8080/",
          "height": 310
        },
        "id": "xxMbGT9C11FD",
        "outputId": "924ede8a-b29c-4ccf-e8ad-84626d5167f2"
      },
      "outputs": [
        {
          "data": {
            "text/html": [
              "<div>\n",
              "<style scoped>\n",
              "    .dataframe tbody tr th:only-of-type {\n",
              "        vertical-align: middle;\n",
              "    }\n",
              "\n",
              "    .dataframe tbody tr th {\n",
              "        vertical-align: top;\n",
              "    }\n",
              "\n",
              "    .dataframe thead th {\n",
              "        text-align: right;\n",
              "    }\n",
              "</style>\n",
              "<table border=\"1\" class=\"dataframe\">\n",
              "  <thead>\n",
              "    <tr style=\"text-align: right;\">\n",
              "      <th></th>\n",
              "      <th>Region</th>\n",
              "      <th>Country</th>\n",
              "      <th>Item Type</th>\n",
              "      <th>Sales Channel</th>\n",
              "      <th>Order Priority</th>\n",
              "      <th>Order Date</th>\n",
              "      <th>Order ID</th>\n",
              "      <th>Ship Date</th>\n",
              "      <th>Units Sold</th>\n",
              "      <th>Unit Price</th>\n",
              "      <th>Unit Cost</th>\n",
              "      <th>Total Revenue</th>\n",
              "      <th>Total Cost</th>\n",
              "      <th>Total Profit</th>\n",
              "    </tr>\n",
              "  </thead>\n",
              "  <tbody>\n",
              "    <tr>\n",
              "      <th>0</th>\n",
              "      <td>Middle East and North Africa</td>\n",
              "      <td>Azerbaijan</td>\n",
              "      <td>Snacks</td>\n",
              "      <td>Online</td>\n",
              "      <td>C</td>\n",
              "      <td>2014-10-08</td>\n",
              "      <td>535113847</td>\n",
              "      <td>2014-10-23</td>\n",
              "      <td>934</td>\n",
              "      <td>152.58</td>\n",
              "      <td>97.44</td>\n",
              "      <td>142509.72</td>\n",
              "      <td>91008.96</td>\n",
              "      <td>51500.76</td>\n",
              "    </tr>\n",
              "    <tr>\n",
              "      <th>1</th>\n",
              "      <td>Central America and the Caribbean</td>\n",
              "      <td>Panama</td>\n",
              "      <td>Cosmetics</td>\n",
              "      <td>Offline</td>\n",
              "      <td>L</td>\n",
              "      <td>2015-02-22</td>\n",
              "      <td>874708545</td>\n",
              "      <td>2015-02-27</td>\n",
              "      <td>4551</td>\n",
              "      <td>437.20</td>\n",
              "      <td>263.33</td>\n",
              "      <td>1989697.20</td>\n",
              "      <td>1198414.83</td>\n",
              "      <td>791282.37</td>\n",
              "    </tr>\n",
              "    <tr>\n",
              "      <th>2</th>\n",
              "      <td>Sub-Saharan Africa</td>\n",
              "      <td>Sao Tome and Principe</td>\n",
              "      <td>Fruits</td>\n",
              "      <td>Offline</td>\n",
              "      <td>M</td>\n",
              "      <td>2015-12-09</td>\n",
              "      <td>854349935</td>\n",
              "      <td>2016-01-18</td>\n",
              "      <td>9986</td>\n",
              "      <td>9.33</td>\n",
              "      <td>6.92</td>\n",
              "      <td>93169.38</td>\n",
              "      <td>69103.12</td>\n",
              "      <td>24066.26</td>\n",
              "    </tr>\n",
              "    <tr>\n",
              "      <th>3</th>\n",
              "      <td>Sub-Saharan Africa</td>\n",
              "      <td>Sao Tome and Principe</td>\n",
              "      <td>Personal Care</td>\n",
              "      <td>Online</td>\n",
              "      <td>M</td>\n",
              "      <td>2014-09-17</td>\n",
              "      <td>892836844</td>\n",
              "      <td>2014-10-12</td>\n",
              "      <td>9118</td>\n",
              "      <td>81.73</td>\n",
              "      <td>56.67</td>\n",
              "      <td>745214.14</td>\n",
              "      <td>516717.06</td>\n",
              "      <td>228497.08</td>\n",
              "    </tr>\n",
              "    <tr>\n",
              "      <th>4</th>\n",
              "      <td>Central America and the Caribbean</td>\n",
              "      <td>Belize</td>\n",
              "      <td>Household</td>\n",
              "      <td>Offline</td>\n",
              "      <td>H</td>\n",
              "      <td>2010-02-04</td>\n",
              "      <td>129280602</td>\n",
              "      <td>2010-03-05</td>\n",
              "      <td>5858</td>\n",
              "      <td>668.27</td>\n",
              "      <td>502.54</td>\n",
              "      <td>3914725.66</td>\n",
              "      <td>2943879.32</td>\n",
              "      <td>970846.34</td>\n",
              "    </tr>\n",
              "  </tbody>\n",
              "</table>\n",
              "</div>"
            ],
            "text/plain": [
              "                              Region                Country      Item Type  \\\n",
              "0       Middle East and North Africa             Azerbaijan         Snacks   \n",
              "1  Central America and the Caribbean                 Panama      Cosmetics   \n",
              "2                 Sub-Saharan Africa  Sao Tome and Principe         Fruits   \n",
              "3                 Sub-Saharan Africa  Sao Tome and Principe  Personal Care   \n",
              "4  Central America and the Caribbean                 Belize      Household   \n",
              "\n",
              "  Sales Channel Order Priority Order Date   Order ID  Ship Date  Units Sold  \\\n",
              "0        Online              C 2014-10-08  535113847 2014-10-23         934   \n",
              "1       Offline              L 2015-02-22  874708545 2015-02-27        4551   \n",
              "2       Offline              M 2015-12-09  854349935 2016-01-18        9986   \n",
              "3        Online              M 2014-09-17  892836844 2014-10-12        9118   \n",
              "4       Offline              H 2010-02-04  129280602 2010-03-05        5858   \n",
              "\n",
              "   Unit Price  Unit Cost  Total Revenue  Total Cost  Total Profit  \n",
              "0      152.58      97.44      142509.72    91008.96      51500.76  \n",
              "1      437.20     263.33     1989697.20  1198414.83     791282.37  \n",
              "2        9.33       6.92       93169.38    69103.12      24066.26  \n",
              "3       81.73      56.67      745214.14   516717.06     228497.08  \n",
              "4      668.27     502.54     3914725.66  2943879.32     970846.34  "
            ]
          },
          "execution_count": 12,
          "metadata": {},
          "output_type": "execute_result"
        }
      ],
      "source": [
        "data.head()"
      ]
    },
    {
      "cell_type": "code",
      "execution_count": 13,
      "metadata": {
        "id": "L8TED0LE1gKA"
      },
      "outputs": [],
      "source": [
        "all_products_names = data['Item Type'].unique()"
      ]
    },
    {
      "cell_type": "code",
      "execution_count": 14,
      "metadata": {
        "colab": {
          "base_uri": "https://localhost:8080/"
        },
        "id": "2-EpOuhf1v6Z",
        "outputId": "9fa937c1-714b-4575-c6bb-078db7304b69"
      },
      "outputs": [
        {
          "data": {
            "text/plain": [
              "array(['Snacks', 'Cosmetics', 'Fruits', 'Personal Care', 'Household',\n",
              "       'Clothes', 'Vegetables', 'Office Supplies', 'Beverages', 'Meat',\n",
              "       'Cereal', 'Baby Food'], dtype=object)"
            ]
          },
          "execution_count": 14,
          "metadata": {},
          "output_type": "execute_result"
        }
      ],
      "source": [
        "all_products_names"
      ]
    },
    {
      "cell_type": "code",
      "execution_count": 15,
      "metadata": {
        "id": "Fa4J3PU81x06"
      },
      "outputs": [],
      "source": [
        "for product in all_products_names:\n",
        "  df = data[data['Item Type'] == product]\n",
        "  output_file_name = 'Product_'+ str(product)+\".xlsx\"\n",
        "  df.to_excel(output_file_name, index = False) "
      ]
    },
    {
      "cell_type": "markdown",
      "metadata": {
        "id": "QTwyPN1zCb4j"
      },
      "source": [
        "### Zip to download all files at once"
      ]
    },
    {
      "cell_type": "code",
      "execution_count": 17,
      "metadata": {
        "colab": {
          "base_uri": "https://localhost:8080/"
        },
        "id": "50CTafoK2dth",
        "outputId": "620c73b1-9d9e-490c-e4fc-287785816909"
      },
      "outputs": [
        {
          "name": "stderr",
          "output_type": "stream",
          "text": [
            "'zip' n'est pas reconnu en tant que commande interne\n",
            "ou externe, un programme ex�cutable ou un fichier de commandes.\n"
          ]
        }
      ],
      "source": [
        "!zip all_products.zip *.xlsx"
      ]
    },
    {
      "cell_type": "code",
      "execution_count": null,
      "metadata": {
        "id": "TJrhBulrC0ea"
      },
      "outputs": [],
      "source": []
    }
  ],
  "metadata": {
    "colab": {
      "collapsed_sections": [],
      "name": "MiniProject_ExcelSplit.ipynb",
      "provenance": []
    },
    "kernelspec": {
      "display_name": "Python 3",
      "name": "python3"
    },
    "language_info": {
      "codemirror_mode": {
        "name": "ipython",
        "version": 3
      },
      "file_extension": ".py",
      "mimetype": "text/x-python",
      "name": "python",
      "nbconvert_exporter": "python",
      "pygments_lexer": "ipython3",
      "version": "3.10.9"
    }
  },
  "nbformat": 4,
  "nbformat_minor": 0
}
